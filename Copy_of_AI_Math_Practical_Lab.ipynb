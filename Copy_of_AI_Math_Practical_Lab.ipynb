{
  "nbformat": 4,
  "nbformat_minor": 0,
  "metadata": {
    "colab": {
      "provenance": []
    },
    "kernelspec": {
      "name": "python3",
      "display_name": "Python 3"
    },
    "language_info": {
      "name": "python"
    }
  },
  "cells": [
    {
      "cell_type": "code",
      "execution_count": null,
      "metadata": {
        "colab": {
          "base_uri": "https://localhost:8080/"
        },
        "id": "Bb378SuLyStz",
        "outputId": "d2814458-9d32-4426-e5d3-c10ee2aa75c4"
      },
      "outputs": [
        {
          "output_type": "stream",
          "name": "stdout",
          "text": [
            "Requirement already satisfied: numpy in /usr/local/lib/python3.12/dist-packages (2.0.2)\n",
            "Requirement already satisfied: scipy in /usr/local/lib/python3.12/dist-packages (1.16.2)\n",
            "Requirement already satisfied: matplotlib in /usr/local/lib/python3.12/dist-packages (3.10.0)\n",
            "Requirement already satisfied: pandas in /usr/local/lib/python3.12/dist-packages (2.2.2)\n",
            "Requirement already satisfied: scikit-learn in /usr/local/lib/python3.12/dist-packages (1.6.1)\n",
            "Requirement already satisfied: contourpy>=1.0.1 in /usr/local/lib/python3.12/dist-packages (from matplotlib) (1.3.3)\n",
            "Requirement already satisfied: cycler>=0.10 in /usr/local/lib/python3.12/dist-packages (from matplotlib) (0.12.1)\n",
            "Requirement already satisfied: fonttools>=4.22.0 in /usr/local/lib/python3.12/dist-packages (from matplotlib) (4.60.0)\n",
            "Requirement already satisfied: kiwisolver>=1.3.1 in /usr/local/lib/python3.12/dist-packages (from matplotlib) (1.4.9)\n",
            "Requirement already satisfied: packaging>=20.0 in /usr/local/lib/python3.12/dist-packages (from matplotlib) (25.0)\n",
            "Requirement already satisfied: pillow>=8 in /usr/local/lib/python3.12/dist-packages (from matplotlib) (11.3.0)\n",
            "Requirement already satisfied: pyparsing>=2.3.1 in /usr/local/lib/python3.12/dist-packages (from matplotlib) (3.2.4)\n",
            "Requirement already satisfied: python-dateutil>=2.7 in /usr/local/lib/python3.12/dist-packages (from matplotlib) (2.9.0.post0)\n",
            "Requirement already satisfied: pytz>=2020.1 in /usr/local/lib/python3.12/dist-packages (from pandas) (2025.2)\n",
            "Requirement already satisfied: tzdata>=2022.7 in /usr/local/lib/python3.12/dist-packages (from pandas) (2025.2)\n",
            "Requirement already satisfied: joblib>=1.2.0 in /usr/local/lib/python3.12/dist-packages (from scikit-learn) (1.5.2)\n",
            "Requirement already satisfied: threadpoolctl>=3.1.0 in /usr/local/lib/python3.12/dist-packages (from scikit-learn) (3.6.0)\n",
            "Requirement already satisfied: six>=1.5 in /usr/local/lib/python3.12/dist-packages (from python-dateutil>=2.7->matplotlib) (1.17.0)\n"
          ]
        }
      ],
      "source": [
        "# تثبيت المكتبات الضرورية\n",
        "!pip install numpy scipy matplotlib pandas scikit-learn"
      ]
    },
    {
      "cell_type": "code",
      "source": [
        "# استيراد المكتبات اللازمة\n",
        "import numpy as np\n",
        "\n",
        "# إنشاء مصفوفتين كمثال\n",
        "A = np.array([[2, 1],\n",
        "              [1, 3]])\n",
        "\n",
        "B = np.array([[1, 2],\n",
        "              [3, 4]])\n",
        "\n",
        "# ضرب المصفوفتين\n",
        "C = np.dot(A, B)\n",
        "\n",
        "print(\"ناتج ضرب المصفوفة A في B هو:\\n\", C)\n",
        "\n",
        "# حساب القيم الذاتية والمتجهات الذاتية للمصفوفة A\n",
        "eigenvalues, eigenvectors = np.linalg.eig(A)\n",
        "\n",
        "print(\"\\nالقيم الذاتية للمصفوفة A هي:\\n\", eigenvalues)\n",
        "print(\"\\nالمتجهات الذاتية للمصفوفة A هي:\\n\", eigenvectors)\n"
      ],
      "metadata": {
        "colab": {
          "base_uri": "https://localhost:8080/"
        },
        "id": "WahuLZ7tzGkh",
        "outputId": "b587df92-58a8-4c2d-dac8-c03982a9d28b"
      },
      "execution_count": null,
      "outputs": [
        {
          "output_type": "stream",
          "name": "stdout",
          "text": [
            "ناتج ضرب المصفوفة A في B هو:\n",
            " [[ 5  8]\n",
            " [10 14]]\n",
            "\n",
            "القيم الذاتية للمصفوفة A هي:\n",
            " [1.38196601 3.61803399]\n",
            "\n",
            "المتجهات الذاتية للمصفوفة A هي:\n",
            " [[-0.85065081 -0.52573111]\n",
            " [ 0.52573111 -0.85065081]]\n"
          ]
        }
      ]
    },
    {
      "cell_type": "code",
      "source": [
        "# 1) توليد بيانات صناعية ثنائية الأبعاد لتصنيف ثنائي\n",
        "from sklearn.datasets import make_classification\n",
        "from sklearn.model_selection import train_test_split\n",
        "from sklearn.naive_bayes import GaussianNB\n",
        "from sklearn.metrics import accuracy_score, classification_report, confusion_matrix\n",
        "import numpy as np\n",
        "\n",
        "# توليد بيانات: ميزتان (feature1, feature2) وفئتان (0,1)\n",
        "X, y = make_classification(n_samples=600, n_features=2, n_redundant=0, n_informative=2,\n",
        "                           n_clusters_per_class=1, class_sep=1.5, flip_y=0.02, random_state=42)\n",
        "\n",
        "# تقسيم Train/Test\n",
        "X_train, X_test, y_train, y_test = train_test_split(\n",
        "    X, y, test_size=0.25, random_state=42, stratify=y\n",
        ")\n",
        "\n",
        "# 2) تدريب Gaussian Naive Bayes\n",
        "gnb = GaussianNB()\n",
        "gnb.fit(X_train, y_train)\n",
        "\n",
        "# 3) التنبؤ والتقييم\n",
        "y_pred = gnb.predict(X_test)\n",
        "acc = accuracy_score(y_test, y_pred)\n",
        "cm  = confusion_matrix(y_test, y_pred)\n",
        "report = classification_report(y_test, y_pred, digits=3)\n",
        "\n",
        "print(\"Accuracy:\", acc)\n",
        "print(\"\\nConfusion Matrix:\\n\", cm)\n",
        "print(\"\\nClassification Report:\\n\", report)\n"
      ],
      "metadata": {
        "colab": {
          "base_uri": "https://localhost:8080/"
        },
        "id": "GOWq8gl9z1tg",
        "outputId": "d15166f0-93ea-4ffd-d4d2-326534e9c054"
      },
      "execution_count": null,
      "outputs": [
        {
          "output_type": "stream",
          "name": "stdout",
          "text": [
            "Accuracy: 0.96\n",
            "\n",
            "Confusion Matrix:\n",
            " [[71  4]\n",
            " [ 2 73]]\n",
            "\n",
            "Classification Report:\n",
            "               precision    recall  f1-score   support\n",
            "\n",
            "           0      0.973     0.947     0.959        75\n",
            "           1      0.948     0.973     0.961        75\n",
            "\n",
            "    accuracy                          0.960       150\n",
            "   macro avg      0.960     0.960     0.960       150\n",
            "weighted avg      0.960     0.960     0.960       150\n",
            "\n"
          ]
        }
      ]
    },
    {
      "cell_type": "code",
      "source": [
        "import matplotlib.pyplot as plt\n",
        "\n",
        "# شبكة نقاط لرسم حدود القرار\n",
        "h = 0.02\n",
        "x_min, x_max = X[:, 0].min() - 1, X[:, 0].max() + 1\n",
        "y_min, y_max = X[:, 1].min() - 1, X[:, 1].max() + 1\n",
        "xx, yy = np.meshgrid(np.arange(x_min, x_max, h),\n",
        "                     np.arange(y_min, y_max, h))\n",
        "Z = gnb.predict(np.c_[xx.ravel(), yy.ravel()]).reshape(xx.shape)\n",
        "\n",
        "plt.figure(figsize=(6,5))\n",
        "# خريطة حدود القرار\n",
        "plt.contourf(xx, yy, Z, alpha=0.3)\n",
        "# نقاط التدريب/الاختبار\n",
        "plt.scatter(X_train[:,0], X_train[:,1], s=20, label=\"Train\", edgecolor='k')\n",
        "plt.scatter(X_test[:,0],  X_test[:,1],  s=20, label=\"Test\",  marker='^', edgecolor='k')\n",
        "plt.title(\"Gaussian Naive Bayes — Decision Boundary\")\n",
        "plt.legend()\n",
        "plt.xlabel(\"feature 1\"); plt.ylabel(\"feature 2\")\n",
        "plt.show()\n"
      ],
      "metadata": {
        "colab": {
          "base_uri": "https://localhost:8080/",
          "height": 487
        },
        "id": "rySYMQw5-XTh",
        "outputId": "8e4c6591-202e-43f8-9ddb-c77db71a4bbe"
      },
      "execution_count": null,
      "outputs": [
        {
          "output_type": "display_data",
          "data": {
            "text/plain": [
              "<Figure size 600x500 with 1 Axes>"
            ],
            "image/png": "[encoded data removed]"
          },
          "metadata": {}
        }
      ]
    },
    {
      "cell_type": "code",
      "source": [
        "def run_gaussian_nb(class_sep=1.5, flip_y=0.02, random_state=42):\n",
        "    X_, y_ = make_classification(n_samples=600, n_features=2, n_redundant=0, n_informative=2,\n",
        "                                 n_clusters_per_class=1, class_sep=class_sep, flip_y=flip_y,\n",
        "                                 random_state=random_state)\n",
        "    Xtr, Xte, ytr, yte = train_test_split(X_, y_, test_size=0.25, random_state=42, stratify=y_)\n",
        "    model = GaussianNB().fit(Xtr, ytr)\n",
        "    yhat = model.predict(Xte)\n",
        "    acc = accuracy_score(yte, yhat)\n",
        "    return acc\n",
        "\n",
        "for sep in [2.0, 1.5, 1.0, 0.7]:\n",
        "    acc = run_gaussian_nb(class_sep=sep, flip_y=0.02)\n",
        "    print(f\"class_sep={sep}: accuracy={acc:.3f}\")\n",
        "\n",
        "for noise in [0.00, 0.02, 0.05, 0.10]:\n",
        "    acc = run_gaussian_nb(class_sep=1.5, flip_y=noise)\n",
        "    print(f\"flip_y={noise}: accuracy={acc:.3f}\")\n"
      ],
      "metadata": {
        "colab": {
          "base_uri": "https://localhost:8080/"
        },
        "id": "L56gURdz-wUs",
        "outputId": "e917804d-21eb-436a-f5fb-9e84caf12f00"
      },
      "execution_count": null,
      "outputs": [
        {
          "output_type": "stream",
          "name": "stdout",
          "text": [
            "class_sep=2.0: accuracy=0.987\n",
            "class_sep=1.5: accuracy=0.960\n",
            "class_sep=1.0: accuracy=0.867\n",
            "class_sep=0.7: accuracy=0.820\n",
            "flip_y=0.0: accuracy=0.953\n",
            "flip_y=0.02: accuracy=0.960\n",
            "flip_y=0.05: accuracy=0.953\n",
            "flip_y=0.1: accuracy=0.913\n"
          ]
        }
      ]
    },
    {
      "cell_type": "code",
      "source": [
        "from sklearn.model_selection import cross_val_score\n",
        "from sklearn.naive_bayes import GaussianNB\n",
        "from sklearn.datasets import make_classification\n",
        "import numpy as np\n",
        "\n",
        "# توليد بيانات جديدة لعرض الفكرة\n",
        "X, y = make_classification(n_samples=800, n_features=2, n_redundant=0,\n",
        "                           n_informative=2, n_clusters_per_class=1,\n",
        "                           class_sep=1.5, random_state=42)\n",
        "\n",
        "# تهيئة المصنف\n",
        "gnb = GaussianNB()\n",
        "\n",
        "# تطبيق التحقق المتقاطع مع 5 طيات (K=5)\n",
        "scores = cross_val_score(gnb, X, y, cv=5, scoring='accuracy')\n",
        "\n",
        "print(\"دقة كل طيّة:\", scores)\n",
        "print(\"متوسط الدقة:\", scores.mean())\n",
        "print(\"الانحراف المعياري:\", scores.std())\n"
      ],
      "metadata": {
        "colab": {
          "base_uri": "https://localhost:8080/"
        },
        "id": "UUP7Ymkv-5T2",
        "outputId": "a9d36847-18a9-4476-a3bf-d23f50ca5a18"
      },
      "execution_count": null,
      "outputs": [
        {
          "output_type": "stream",
          "name": "stdout",
          "text": [
            "دقة كل طيّة: [0.9375  0.95625 0.94375 0.9625  0.90625]\n",
            "متوسط الدقة: 0.9412499999999999\n",
            "الانحراف المعياري: 0.019605483926697663\n"
          ]
        }
      ]
    },
    {
      "cell_type": "code",
      "source": [
        "from sklearn.linear_model import LogisticRegression\n",
        "from sklearn.model_selection import GridSearchCV, KFold\n",
        "from sklearn.datasets import make_classification\n",
        "from sklearn.metrics import accuracy_score\n",
        "import numpy as np\n",
        "\n",
        "# بيانات تجريبية\n",
        "X, y = make_classification(n_samples=800, n_features=10, n_informative=6,\n",
        "                           n_redundant=0, class_sep=1.2, random_state=42)\n",
        "\n",
        "# شبكة البحث\n",
        "param_grid = {\n",
        "    'C': [0.01, 0.1, 1, 10, 100],\n",
        "    'solver': ['lbfgs', 'liblinear'],\n",
        "    'penalty': ['l2'],\n",
        "    'max_iter': [1000]\n",
        "}\n",
        "\n",
        "cv = KFold(n_splits=5, shuffle=True, random_state=42)\n",
        "clf = GridSearchCV(LogisticRegression(), param_grid, cv=cv, scoring='accuracy', n_jobs=-1)\n",
        "clf.fit(X, y)\n",
        "\n",
        "print(\"أفضل إعدادات:\", clf.best_params_)\n",
        "print(\"أفضل دقة CV:\", round(clf.best_score_, 4))\n"
      ],
      "metadata": {
        "colab": {
          "base_uri": "https://localhost:8080/"
        },
        "id": "zL7HIfSd_ycK",
        "outputId": "736b29e0-c351-4407-8c0c-d49276e0dd12"
      },
      "execution_count": null,
      "outputs": [
        {
          "output_type": "stream",
          "name": "stdout",
          "text": [
            "أفضل إعدادات: {'C': 0.01, 'max_iter': 1000, 'penalty': 'l2', 'solver': 'lbfgs'}\n",
            "أفضل دقة CV: 0.83\n"
          ]
        }
      ]
    },
    {
      "cell_type": "code",
      "source": [
        "import numpy as np\n",
        "from scipy.stats import entropy\n",
        "from sklearn.feature_selection import mutual_info_classif\n",
        "from sklearn.preprocessing import StandardScaler\n",
        "\n",
        "# توزيعات تجريبية\n",
        "p = np.array([0.6, 0.3, 0.1]) + 1e-12\n",
        "q = np.array([0.5, 0.4, 0.1]) + 1e-12\n",
        "p, q = p/p.sum(), q/q.sum()\n",
        "\n",
        "H_p   = entropy(p, base=2)           # Entropy\n",
        "KL_pq = entropy(p, qk=q, base=2)     # KL(p||q)\n",
        "\n",
        "print(\"Entropy H(p):\", round(H_p, 4))\n",
        "print(\"KL Divergence KL(p||q):\", round(KL_pq, 4))\n",
        "\n",
        "# MI لاختيار الميزات\n",
        "from sklearn.datasets import make_classification\n",
        "X, y = make_classification(n_samples=600, n_features=8, n_informative=4, random_state=42)\n",
        "X = StandardScaler().fit_transform(X)\n",
        "mi = mutual_info_classif(X, y, random_state=42)\n",
        "print(\"Mutual Information لكل ميزة:\\n\", np.round(mi, 4))\n"
      ],
      "metadata": {
        "colab": {
          "base_uri": "https://localhost:8080/"
        },
        "id": "l3kZWNqwBMbJ",
        "outputId": "b6b59345-f362-4b50-e85c-df39b5f15c32"
      },
      "execution_count": null,
      "outputs": [
        {
          "output_type": "stream",
          "name": "stdout",
          "text": [
            "Entropy H(p): 1.2955\n",
            "KL Divergence KL(p||q): 0.0333\n",
            "Mutual Information لكل ميزة:\n",
            " [0.0079 0.1195 0.1714 0.0524 0.1691 0.0221 0.1181 0.    ]\n"
          ]
        }
      ]
    },
    {
      "cell_type": "code",
      "source": [
        "# 1) تحميل/توليد البيانات\n",
        "from sklearn.datasets import make_classification\n",
        "X, y = make_classification(n_samples=1000, n_features=12, n_informative=6, random_state=42)\n",
        "\n",
        "# 2) تقسيم وتهيئة\n",
        "from sklearn.model_selection import train_test_split\n",
        "from sklearn.preprocessing import StandardScaler\n",
        "X_train, X_test, y_train, y_test = train_test_split(X, y, test_size=0.2, stratify=y, random_state=42)\n",
        "scaler = StandardScaler().fit(X_train)\n",
        "X_train, X_test = scaler.transform(X_train), scaler.transform(X_test)\n",
        "\n",
        "# 3) نموذج أساس (Baseline)\n",
        "from sklearn.naive_bayes import GaussianNB\n",
        "from sklearn.metrics import accuracy_score, classification_report, confusion_matrix\n",
        "base = GaussianNB().fit(X_train, y_train)\n",
        "y_pred = base.predict(X_test)\n",
        "print(\"Baseline Accuracy:\", round(accuracy_score(y_test, y_pred), 4))\n",
        "\n",
        "# 4) تحسين تدريجي (LogisticRegression + GridSearch)\n",
        "from sklearn.linear_model import LogisticRegression\n",
        "from sklearn.model_selection import GridSearchCV, KFold\n",
        "param_grid = {'C':[0.01,0.1,1,10,100], 'solver':['lbfgs','liblinear'], 'penalty':['l2'], 'max_iter':[1000]}\n",
        "cv = KFold(n_splits=5, shuffle=True, random_state=42)\n",
        "gs = GridSearchCV(LogisticRegression(), param_grid, cv=cv, scoring='accuracy', n_jobs=-1).fit(X_train, y_train)\n",
        "\n",
        "best = gs.best_estimator_\n",
        "y_pred_best = best.predict(X_test)\n",
        "print(\"Best Params:\", gs.best_params_)\n",
        "print(\"Improved Accuracy:\", round(accuracy_score(y_test, y_pred_best), 4))\n",
        "print(\"\\nReport:\\n\", classification_report(y_test, y_pred_best))\n",
        "print(\"Confusion Matrix:\\n\", confusion_matrix(y_test, y_pred_best))\n"
      ],
      "metadata": {
        "colab": {
          "base_uri": "https://localhost:8080/"
        },
        "id": "GBZT2l_aBY6U",
        "outputId": "d71beb9f-834b-4ee9-d1d2-621f4b1fd51a"
      },
      "execution_count": null,
      "outputs": [
        {
          "output_type": "stream",
          "name": "stdout",
          "text": [
            "Baseline Accuracy: 0.825\n",
            "Best Params: {'C': 0.01, 'max_iter': 1000, 'penalty': 'l2', 'solver': 'lbfgs'}\n",
            "Improved Accuracy: 0.825\n",
            "\n",
            "Report:\n",
            "               precision    recall  f1-score   support\n",
            "\n",
            "           0       0.84      0.80      0.82       100\n",
            "           1       0.81      0.85      0.83       100\n",
            "\n",
            "    accuracy                           0.82       200\n",
            "   macro avg       0.83      0.82      0.82       200\n",
            "weighted avg       0.83      0.82      0.82       200\n",
            "\n",
            "Confusion Matrix:\n",
            " [[80 20]\n",
            " [15 85]]\n"
          ]
        }
      ]
    },
    {
      "cell_type": "code",
      "source": [],
      "metadata": {
        "id": "8bp2xgmOBfQO"
      },
      "execution_count": null,
      "outputs": []
    }
  ]
}